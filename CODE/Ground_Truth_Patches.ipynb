{
 "cells": [
  {
   "cell_type": "code",
   "execution_count": 26,
   "id": "5317015e",
   "metadata": {},
   "outputs": [],
   "source": [
    "def GT_Patchify(slidepath, annotpath, des, m_level=0):\n",
    "\n",
    "    import sys, numpy as np, matplotlib.pyplot as plt,cv2 as cv,os,openslide,xml.etree.cElementTree as ET,random,glob\n",
    "\n",
    "    sys.path.append(\"C:/Program Files/ASAP 2.0/bin\")\n",
    "\n",
    "    import multiresolutionimageinterface as mir\n",
    "\n",
    "    factor = 0**m_level\n",
    "    slidename = os.listdir(slidepath)\n",
    "    annotname = os.listdir(annotpath)\n",
    "    \n",
    "    def parse_xml(anno_path):\n",
    "        tree = ET.ElementTree(file=anno_path)\n",
    "        annolist={}\n",
    "        root = tree.getroot()\n",
    "        i = 0\n",
    "        for coords in root.iter('Coordinates'):\n",
    "            vasc = []\n",
    "            for coord in coords:\n",
    "                vasc.append((int(float(coord.attrib.get(\"X\"))/factor),int(float(coord.attrib.get(\"Y\"))/factor)))\n",
    "            annolist[i] = vasc\n",
    "            i+=1\n",
    "        return annolist\n",
    "    \n",
    "    def generate_patches(slidepath,slidename,annotpath, annotname,des, patch_size):\n",
    "        slide_path = os.path.join(slidepath, slidename)\n",
    "        anno_path = os.path.join(annotpath,annotname)\n",
    "        Slide =  openslide.OpenSlide(slide_path)\n",
    "        annolist = parse_xml(anno_path)\n",
    "        for i in range(len(annolist)):                   \n",
    "            coords = np.array(annolist[i])\n",
    "            x, y, w, h = cv.boundingRect(coords)\n",
    "            for k in range(30):                        \n",
    "                offsetx = random.randrange(-1000, 100)\n",
    "                offsety = random.randrange(-1000, 100)\n",
    "                spointx, spointy = x + offsetx, y + offsety \n",
    "                spointx0, spointy0 = spointx*factor, spointy*factor \n",
    "                patching = Slide.read_region((spointx0, spointy0), m_level, (patch_size, patch_size))                        \n",
    "                cv.imwrite(des + f\"{slidename.split('.')[0]}_lvl{m_level}_patch{str(i)}{str(k)}.jpg\", np.array(patching))\n",
    "    des = des + 'GroundTruths/'\n",
    "    os.makedirs(des)\n",
    "    for i in range(len(slidename)):\n",
    "        annolist = parse_xml(os.path.join(annotpath,annotname[i]))\n",
    "        generate_patches(slidepath,slidename[i],annotpath,annotname[i],des,512)"
   ]
  },
  {
   "cell_type": "code",
   "execution_count": 27,
   "id": "8da196ef",
   "metadata": {},
   "outputs": [
    {
     "ename": "KeyboardInterrupt",
     "evalue": "",
     "output_type": "error",
     "traceback": [
      "\u001b[1;31m---------------------------------------------------------------------------\u001b[0m",
      "\u001b[1;31mKeyboardInterrupt\u001b[0m                         Traceback (most recent call last)",
      "\u001b[1;32m<ipython-input-27-af6962e485ab>\u001b[0m in \u001b[0;36m<module>\u001b[1;34m\u001b[0m\n\u001b[0;32m      2\u001b[0m \u001b[0mannotpath\u001b[0m \u001b[1;33m=\u001b[0m \u001b[1;34m'D:/Practice/Lung_cancer/Anns/'\u001b[0m\u001b[1;33m\u001b[0m\u001b[1;33m\u001b[0m\u001b[0m\n\u001b[0;32m      3\u001b[0m \u001b[0mdes\u001b[0m \u001b[1;33m=\u001b[0m \u001b[1;34m'D:/Practice/Lung_cancer/'\u001b[0m            \u001b[1;31m#Ground truth folder will itself be created\u001b[0m\u001b[1;33m\u001b[0m\u001b[1;33m\u001b[0m\u001b[0m\n\u001b[1;32m----> 4\u001b[1;33m \u001b[0mGT_Patchify\u001b[0m\u001b[1;33m(\u001b[0m\u001b[0mslidepath\u001b[0m\u001b[1;33m,\u001b[0m \u001b[0mannotpath\u001b[0m\u001b[1;33m,\u001b[0m \u001b[0mdes\u001b[0m\u001b[1;33m)\u001b[0m\u001b[1;33m\u001b[0m\u001b[1;33m\u001b[0m\u001b[0m\n\u001b[0m",
      "\u001b[1;32m<ipython-input-26-396602b0e251>\u001b[0m in \u001b[0;36mGT_Patchify\u001b[1;34m(slidepath, annotpath, des, m_level)\u001b[0m\n\u001b[0;32m     43\u001b[0m     \u001b[1;32mfor\u001b[0m \u001b[0mi\u001b[0m \u001b[1;32min\u001b[0m \u001b[0mrange\u001b[0m\u001b[1;33m(\u001b[0m\u001b[0mlen\u001b[0m\u001b[1;33m(\u001b[0m\u001b[0mslidename\u001b[0m\u001b[1;33m)\u001b[0m\u001b[1;33m)\u001b[0m\u001b[1;33m:\u001b[0m\u001b[1;33m\u001b[0m\u001b[1;33m\u001b[0m\u001b[0m\n\u001b[0;32m     44\u001b[0m         \u001b[0mannolist\u001b[0m \u001b[1;33m=\u001b[0m \u001b[0mparse_xml\u001b[0m\u001b[1;33m(\u001b[0m\u001b[0mos\u001b[0m\u001b[1;33m.\u001b[0m\u001b[0mpath\u001b[0m\u001b[1;33m.\u001b[0m\u001b[0mjoin\u001b[0m\u001b[1;33m(\u001b[0m\u001b[0mannotpath\u001b[0m\u001b[1;33m,\u001b[0m\u001b[0mannotname\u001b[0m\u001b[1;33m[\u001b[0m\u001b[0mi\u001b[0m\u001b[1;33m]\u001b[0m\u001b[1;33m)\u001b[0m\u001b[1;33m)\u001b[0m\u001b[1;33m\u001b[0m\u001b[1;33m\u001b[0m\u001b[0m\n\u001b[1;32m---> 45\u001b[1;33m         \u001b[0mgenerate_patches\u001b[0m\u001b[1;33m(\u001b[0m\u001b[0mslidepath\u001b[0m\u001b[1;33m,\u001b[0m\u001b[0mslidename\u001b[0m\u001b[1;33m[\u001b[0m\u001b[0mi\u001b[0m\u001b[1;33m]\u001b[0m\u001b[1;33m,\u001b[0m\u001b[0mannotpath\u001b[0m\u001b[1;33m,\u001b[0m\u001b[0mannotname\u001b[0m\u001b[1;33m[\u001b[0m\u001b[0mi\u001b[0m\u001b[1;33m]\u001b[0m\u001b[1;33m,\u001b[0m\u001b[0mdes\u001b[0m\u001b[1;33m,\u001b[0m\u001b[1;36m512\u001b[0m\u001b[1;33m)\u001b[0m\u001b[1;33m\u001b[0m\u001b[1;33m\u001b[0m\u001b[0m\n\u001b[0m",
      "\u001b[1;32m<ipython-input-26-396602b0e251>\u001b[0m in \u001b[0;36mgenerate_patches\u001b[1;34m(slidepath, slidename, annotpath, annotname, des, patch_size)\u001b[0m\n\u001b[0;32m     38\u001b[0m                 \u001b[0mspointx0\u001b[0m\u001b[1;33m,\u001b[0m \u001b[0mspointy0\u001b[0m \u001b[1;33m=\u001b[0m \u001b[0mspointx\u001b[0m\u001b[1;33m*\u001b[0m\u001b[0mfactor\u001b[0m\u001b[1;33m,\u001b[0m \u001b[0mspointy\u001b[0m\u001b[1;33m*\u001b[0m\u001b[0mfactor\u001b[0m\u001b[1;33m\u001b[0m\u001b[1;33m\u001b[0m\u001b[0m\n\u001b[0;32m     39\u001b[0m                 \u001b[0mpatching\u001b[0m \u001b[1;33m=\u001b[0m \u001b[0mSlide\u001b[0m\u001b[1;33m.\u001b[0m\u001b[0mread_region\u001b[0m\u001b[1;33m(\u001b[0m\u001b[1;33m(\u001b[0m\u001b[0mspointx0\u001b[0m\u001b[1;33m,\u001b[0m \u001b[0mspointy0\u001b[0m\u001b[1;33m)\u001b[0m\u001b[1;33m,\u001b[0m \u001b[0mm_level\u001b[0m\u001b[1;33m,\u001b[0m \u001b[1;33m(\u001b[0m\u001b[0mpatch_size\u001b[0m\u001b[1;33m,\u001b[0m \u001b[0mpatch_size\u001b[0m\u001b[1;33m)\u001b[0m\u001b[1;33m)\u001b[0m\u001b[1;33m\u001b[0m\u001b[1;33m\u001b[0m\u001b[0m\n\u001b[1;32m---> 40\u001b[1;33m                 \u001b[0mcv\u001b[0m\u001b[1;33m.\u001b[0m\u001b[0mimwrite\u001b[0m\u001b[1;33m(\u001b[0m\u001b[0mdes\u001b[0m \u001b[1;33m+\u001b[0m \u001b[1;34mf\"{slidename.split('.')[0]}_lvl{m_level}_patch{str(i)}{str(k)}.jpg\"\u001b[0m\u001b[1;33m,\u001b[0m \u001b[0mnp\u001b[0m\u001b[1;33m.\u001b[0m\u001b[0marray\u001b[0m\u001b[1;33m(\u001b[0m\u001b[0mpatching\u001b[0m\u001b[1;33m)\u001b[0m\u001b[1;33m)\u001b[0m\u001b[1;33m\u001b[0m\u001b[1;33m\u001b[0m\u001b[0m\n\u001b[0m\u001b[0;32m     41\u001b[0m     \u001b[0mdes\u001b[0m \u001b[1;33m=\u001b[0m \u001b[0mdes\u001b[0m \u001b[1;33m+\u001b[0m \u001b[1;34m'GroundTruths/'\u001b[0m\u001b[1;33m\u001b[0m\u001b[1;33m\u001b[0m\u001b[0m\n\u001b[0;32m     42\u001b[0m     \u001b[0mos\u001b[0m\u001b[1;33m.\u001b[0m\u001b[0mmakedirs\u001b[0m\u001b[1;33m(\u001b[0m\u001b[0mdes\u001b[0m\u001b[1;33m)\u001b[0m\u001b[1;33m\u001b[0m\u001b[1;33m\u001b[0m\u001b[0m\n",
      "\u001b[1;31mKeyboardInterrupt\u001b[0m: "
     ]
    }
   ],
   "source": [
    "slidepath = 'D:/Practice/Lung_cancer/WSIs/'  #path to folder of WSIs\n",
    "annotpath = 'D:/Practice/Lung_cancer/Anns/'\n",
    "des = 'D:/Practice/Lung_cancer/'            #Ground truth folder will itself be created in pasted directory\n",
    "GT_Patchify(slidepath, annotpath, des)"
   ]
  }
 ],
 "metadata": {
  "kernelspec": {
   "display_name": "Python 3",
   "language": "python",
   "name": "python3"
  },
  "language_info": {
   "codemirror_mode": {
    "name": "ipython",
    "version": 3
   },
   "file_extension": ".py",
   "mimetype": "text/x-python",
   "name": "python",
   "nbconvert_exporter": "python",
   "pygments_lexer": "ipython3",
   "version": "3.6.8"
  }
 },
 "nbformat": 4,
 "nbformat_minor": 5
}
