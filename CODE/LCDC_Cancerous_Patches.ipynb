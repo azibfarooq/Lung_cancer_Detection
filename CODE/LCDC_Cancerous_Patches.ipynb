{
 "cells": [
  {
   "cell_type": "code",
   "execution_count": 2,
   "id": "5317015e",
   "metadata": {},
   "outputs": [],
   "source": [
    "def Cancerous_Patchify(slidepath, annotpath, des, m_level=0):\n",
    "\n",
    "    import sys, numpy as np, matplotlib.pyplot as plt,cv2 as cv,os,openslide,xml.etree.cElementTree as ET,random,glob\n",
    "\n",
    "    sys.path.append(\"C:/Program Files/ASAP 2.0/bin\")\n",
    "\n",
    "    import multiresolutionimageinterface as mir\n",
    "\n",
    "    factor = 0**m_level\n",
    "    slidename = os.listdir(slidepath)\n",
    "    annotname = os.listdir(annotpath)\n",
    "    \n",
    "    def parse_xml(anno_path):\n",
    "        tree = ET.ElementTree(file=anno_path)\n",
    "        annolist={}\n",
    "        root = tree.getroot()\n",
    "        i = 0\n",
    "        for coords in root.iter('Coordinates'):\n",
    "            vasc = []\n",
    "            for coord in coords:\n",
    "                vasc.append((int(float(coord.attrib.get(\"X\"))/factor),int(float(coord.attrib.get(\"Y\"))/factor)))\n",
    "            annolist[i] = vasc\n",
    "            i+=1\n",
    "        return annolist\n",
    "    \n",
    "    def generate_patches(slidepath,slidename,annotpath, annotname,des, patch_size):\n",
    "        slide_path = os.path.join(slidepath, slidename)\n",
    "        anno_path = os.path.join(annotpath,annotname)\n",
    "        Slide =  openslide.OpenSlide(slide_path)\n",
    "        annolist = parse_xml(anno_path)\n",
    "        for i in range(len(annolist)):                   \n",
    "            coords = np.array(annolist[i])\n",
    "            x, y, w, h = cv.boundingRect(coords)\n",
    "            for k in range(30):                        \n",
    "                offsetx = random.randrange(-1000, 100)\n",
    "                offsety = random.randrange(-1000, 100)\n",
    "                spointx, spointy = x + offsetx, y + offsety \n",
    "                spointx0, spointy0 = spointx*factor, spointy*factor \n",
    "                patching = Slide.read_region((spointx0, spointy0), m_level, (patch_size, patch_size))                        \n",
    "                cv.imwrite(des + f\"{slidename.split('.')[0]}_lvl{m_level}_patch{str(i)}{str(k)}.jpg\", np.array(patching))\n",
    "    des = des + 'Cancerous_patches/'\n",
    "    os.makedirs(des)\n",
    "    for i in range(len(slidename)):\n",
    "        annolist = parse_xml(os.path.join(annotpath,annotname[i]))\n",
    "        generate_patches(slidepath,slidename[i],annotpath,annotname[i],des,512)"
   ]
  },
  {
   "cell_type": "code",
   "execution_count": null,
   "id": "8da196ef",
   "metadata": {},
   "outputs": [],
   "source": [
    "slidepath = 'D:/Practice/Lung_cancer/WSIs/'  #path to folder of WSIs\n",
    "annotpath = 'D:/Practice/Lung_cancer/Anns/'\n",
    "des = 'D:/Practice/Lung_cancer/'            #cancerous Patches folder will itself be created in pasted directory\n",
    "Cancerous_Patchify(slidepath, annotpath, des)"
   ]
  },
  {
   "cell_type": "code",
   "execution_count": null,
   "id": "5e2f9fa2",
   "metadata": {},
   "outputs": [],
   "source": []
  }
 ],
 "metadata": {
  "kernelspec": {
   "display_name": "Python 3",
   "language": "python",
   "name": "python3"
  },
  "language_info": {
   "codemirror_mode": {
    "name": "ipython",
    "version": 3
   },
   "file_extension": ".py",
   "mimetype": "text/x-python",
   "name": "python",
   "nbconvert_exporter": "python",
   "pygments_lexer": "ipython3",
   "version": "3.6.8"
  }
 },
 "nbformat": 4,
 "nbformat_minor": 5
}
