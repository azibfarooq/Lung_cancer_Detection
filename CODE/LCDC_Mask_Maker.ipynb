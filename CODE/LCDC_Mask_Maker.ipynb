{
 "cells": [
  {
   "cell_type": "code",
   "execution_count": 7,
   "metadata": {},
   "outputs": [],
   "source": [
    "def mask_maker(asap_path,img_root,ann_root,des_path):\n",
    "    import sys\n",
    "    sys.path.append(asap_path)\n",
    "    import glob\n",
    "    import os\n",
    "    import multiresolutionimageinterface as mir    \n",
    "    \n",
    "    reader = mir.MultiResolutionImageReader()\n",
    "    \n",
    "    img_path = list(glob.glob(img_root+'*.tif'))\n",
    "    ann_path = list(glob.glob(ann_root+'*.xml'))\n",
    "    \n",
    "    if os.path.isdir(des_path+'masks') is False:\n",
    "        os.makedirs(des_path+'masks')\n",
    "        \n",
    "    for i in range(len(img_path)):\n",
    "        img = img_path[i].replace('\\\\','/')\n",
    "        ann = ann_path[i].replace('\\\\','/')\n",
    "        mr_image = reader.open(img)\n",
    "    \n",
    "        annotation_list = mir.AnnotationList()\n",
    "\n",
    "        xml_repository = mir.XmlRepository(annotation_list)\n",
    "        xml_repository.setSource(ann); \n",
    "        xml_repository.load()\n",
    "        annotation_mask = mir.AnnotationToMask()\n",
    "       \n",
    "        output_path = des_path+'/masks/mask_{}.tif'.format(i);  \n",
    "        annotation_mask.convert(annotation_list, output_path, mr_image.getDimensions(), mr_image.getSpacing())"
   ]
  },
  {
   "cell_type": "code",
   "execution_count": 8,
   "metadata": {},
   "outputs": [],
   "source": [
    "asap = r'H:\\Azib\\Lung_cancer\\Notebooks\\ASAP 2.0\\bin'\n",
    "imgs = 'H:/Azib/Lung_cancer/'\n",
    "anns = 'H:/Azib/Lung_cancer/Annotation/'\n",
    "des = 'H:/Azib/Lung_cancer/'"
   ]
  },
  {
   "cell_type": "code",
   "execution_count": null,
   "metadata": {},
   "outputs": [],
   "source": [
    "mask_maker(asap,imgs,anns,des)"
   ]
  }
 ],
 "metadata": {
  "kernelspec": {
   "display_name": "Python 3",
   "language": "python",
   "name": "python3"
  },
  "language_info": {
   "codemirror_mode": {
    "name": "ipython",
    "version": 3
   },
   "file_extension": ".py",
   "mimetype": "text/x-python",
   "name": "python",
   "nbconvert_exporter": "python",
   "pygments_lexer": "ipython3",
   "version": "3.6.8"
  }
 },
 "nbformat": 4,
 "nbformat_minor": 4
}
