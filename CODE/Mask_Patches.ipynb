{
 "cells": [
  {
   "cell_type": "code",
   "execution_count": 1,
   "metadata": {},
   "outputs": [],
   "source": [
    "def mask_patches(root, des):\n",
    "    import glob, os, imagecodecs, tifffile as tiff, numpy as np\n",
    "    from patchify import patchify \n",
    "    \n",
    "    des = des + 'Cancerous_MP'\n",
    "    if os.path.isdir(des) is False:\n",
    "        os.makedirs(des)\n",
    "    cancer_list = []\n",
    "    for file in glob.glob(root+'*.tif'):\n",
    "        # file = file.replace(\"\\\\\",\"/\")\n",
    "        img = tiff.imread(file)\n",
    "        patch_id = 0\n",
    "        filename = file[len(root):-4]\n",
    "        \n",
    "        patches = patchify(img, (256, 256), step=256)\n",
    "        x, y = patches.shape[0], patches.shape[1]\n",
    "        patch = []\n",
    "        for i in range(x):\n",
    "            for j in range(y):\n",
    "                img = patches[i][j]\n",
    "                if np.max(img):\n",
    "                    img = img*255\n",
    "                    tiff.imwrite(des+'/{}_MP{}.jpg'.format(filename,patch_id), img, photometric='minisblack')\n",
    "                    patch.append(patch_id)\n",
    "                patch_id += 1\n",
    "        patch.append(filename)\n",
    "        cancer_list.append(patch)\n",
    "    return cancer_list\n",
    "    # !zip -r '/content/patches' '/content/patches'\n",
    "    # files.download('{}.zip'.format(filename))"
   ]
  },
  {
   "cell_type": "code",
   "execution_count": 2,
   "metadata": {},
   "outputs": [],
   "source": [
    "def save_to_text(des,cancer_list):\n",
    "    import os\n",
    "    des = des+'cancer_patch_id'\n",
    "    os.makedirs(des)\n",
    "    os.chdir(des)\n",
    "    for i in cancer_list:\n",
    "        file = open(f'{i[-1]}','w')\n",
    "        for j in range(len(i)-1):\n",
    "            print(i[j])\n",
    "            file.write(f'{i[j]}\\n')\n",
    "        file.close()"
   ]
  },
  {
   "cell_type": "code",
   "execution_count": 3,
   "metadata": {},
   "outputs": [],
   "source": [
    "masks_dir ='H:/Azib/Lung_cancer/LCDC/Mask/'  #Paste path of the direcotry constianing masks\n",
    "des_dir = 'H:/Azib/Lung_cancer/LCDC/'         #Paste path where you want to create folder of mask patches"
   ]
  },
  {
   "cell_type": "code",
   "execution_count": 4,
   "metadata": {},
   "outputs": [],
   "source": [
    "cancer_list = mask_patches(masks_dir, des_dir)\n",
    "save_to_text(des_dir, cancer_list)"
   ]
  }
 ],
 "metadata": {
  "kernelspec": {
   "display_name": "Python 3",
   "language": "python",
   "name": "python3"
  },
  "language_info": {
   "codemirror_mode": {
    "name": "ipython",
    "version": 3
   },
   "file_extension": ".py",
   "mimetype": "text/x-python",
   "name": "python",
   "nbconvert_exporter": "python",
   "pygments_lexer": "ipython3",
   "version": "3.6.8"
  }
 },
 "nbformat": 4,
 "nbformat_minor": 4
}
