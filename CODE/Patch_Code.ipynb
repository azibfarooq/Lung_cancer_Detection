{
 "cells": [
  {
   "cell_type": "code",
   "execution_count": 51,
   "metadata": {},
   "outputs": [],
   "source": [
    "def image_patcher(file,des_path):\n",
    "    \n",
    "  !pip install patchify\n",
    "  !pip install imagecodecs\n",
    "  !pip install tifffile\n",
    "  import imagecodecs\n",
    "  import tifffile as tiff\n",
    "  from patchify import patchify \n",
    "    \n",
    "  img = tiff.imread(file)\n",
    "\n",
    "  patches = patchify(img, (256, 256,3), step=256)\n",
    "  x, y, z = patches.shape[0], patches.shape[1], patches.shape[2]\n",
    "  patch = []\n",
    " \n",
    "  for i in range(x):\n",
    "    for j in range(y):\n",
    "      for k in range(z):\n",
    "        patch.append(patches[i][j][k])\n",
    "  \n",
    "\n",
    "  for i in range(len(patch)):\n",
    "    p = patch[i].astype('uint8')\n",
    "    tiff.imsave(des_path+'patches/{}_patch_{}.tif'.format(file[len(root):-4],i),p,bigtiff=True)\n",
    "  \n",
    "  # !zip -r '/content/patches' '/content/patches'\n",
    "  # files.download('{}.zip'.format(filename))"
   ]
  },
  {
   "cell_type": "code",
   "execution_count": 52,
   "metadata": {},
   "outputs": [],
   "source": [
    "def patch_images(root, des):\n",
    "     \n",
    "  import glob\n",
    "  import os\n",
    "\n",
    "  os.makedirs(des+'patches')\n",
    "  for i in glob.glob(root+'*.tif'):\n",
    "    image_patcher(i,des)"
   ]
  },
  {
   "cell_type": "code",
   "execution_count": 56,
   "metadata": {},
   "outputs": [
    {
     "data": {
      "text/plain": [
       "'code will itself create patch folder in the des directory'"
      ]
     },
     "execution_count": 56,
     "metadata": {},
     "output_type": "execute_result"
    }
   ],
   "source": [
    "root = 'F:/Azib/Lung_cancer/Bmirds_Data/' #Paste path dataset containing WSIs\n",
    "des = 'F:/Azib/Lung_cancer/'              #Paste path where you want to create folder of patches\n",
    "'''code will itself create patch folder in the des directory'''"
   ]
  },
  {
   "cell_type": "code",
   "execution_count": null,
   "metadata": {},
   "outputs": [],
   "source": [
    "patch_images(root, des)"
   ]
  }
 ],
 "metadata": {
  "kernelspec": {
   "display_name": "Python 3",
   "language": "python",
   "name": "python3"
  },
  "language_info": {
   "codemirror_mode": {
    "name": "ipython",
    "version": 3
   },
   "file_extension": ".py",
   "mimetype": "text/x-python",
   "name": "python",
   "nbconvert_exporter": "python",
   "pygments_lexer": "ipython3",
   "version": "3.7.6"
  }
 },
 "nbformat": 4,
 "nbformat_minor": 4
}
