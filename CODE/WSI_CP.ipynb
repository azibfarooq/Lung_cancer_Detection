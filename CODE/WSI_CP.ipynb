{
 "cells": [
  {
   "cell_type": "code",
   "execution_count": 15,
   "metadata": {},
   "outputs": [],
   "source": [
    "def WSI_CP(root, des, CPI):\n",
    "    import glob,os,imagecodecs,tifffile as tiff,numpy as np\n",
    "    from patchify import patchify \n",
    "    os.chdir(des)\n",
    "    if os.path.isfile(des+'Dirty_file.txt') is False:\n",
    "        Dirty_files = open('Dirty_file.txt','w')\n",
    "    else:\n",
    "        Dirty_files = open('Dirty_file.txt','a')\n",
    "\n",
    "\n",
    "\n",
    "    des = des+'WSI_CP'\n",
    "    if os.path.isdir(des) is False:\n",
    "        os.makedirs(des)\n",
    "    else:\n",
    "        EP = os.listdir(des)\n",
    "        EP = list(set([i.split('_')[0] for i in EP]))\n",
    "        \n",
    "\n",
    "    CPI_filenames = os.listdir(CPI)\n",
    "\n",
    "    for file in glob.glob(root+'*.tif'):\n",
    "        \n",
    "        file = file.replace(\"\\\\\",\"/\")\n",
    "        filename = file[len(root):-4]\n",
    "        to_read_file = ''\n",
    "        if filename in EP:\n",
    "            continue\n",
    "\n",
    "        try:\n",
    "            img = tiff.imread(file)\n",
    "            patch_id = 0\n",
    "        except:\n",
    "            Dirty_files.write(f'{filename}')\n",
    "        else:     \n",
    "            for i in range(len(CPI_filenames)):\n",
    "                if filename == CPI_filenames[i].split('_')[0]:\n",
    "                    to_read_file = CPI_filenames[i]\n",
    "                    CPI_filenames.pop(i)\n",
    "                    break\n",
    "\n",
    "            CP = []\n",
    "            with open(CPI+to_read_file) as file:\n",
    "                for i in file.readlines():\n",
    "                    CP.append(int(i))\n",
    "\n",
    "            patches = patchify(img, (256, 256,3), step=256)\n",
    "            x, y, z = patches.shape[0], patches.shape[1], patches.shape[2]\n",
    "            patch = []\n",
    "\n",
    "            for i in range(x):\n",
    "                for j in range(y):\n",
    "                    for k in range(z):\n",
    "                        if patch_id in CP:\n",
    "                            patch.append(patches[i][j][k])\n",
    "                        patch_id += 1\n",
    "            \n",
    "\n",
    "\n",
    "            for i,file in zip(CP,patch):\n",
    "                tiff.imwrite(des+'/{}_CP_{}.jpg'.format(filename,i), file, photometric='rgb')\n",
    "            \n",
    "            if not CPI_filenames:\n",
    "                break\n",
    "            \n",
    "            del img, CP,min_CP,max_CP, filename,patches,patch,x,y,z,patch_id,to_read_file\n",
    "\n",
    "    Dirty_files.close()\n",
    "        \n",
    "    # !zip -r '/content/patches' '/content/patches'\n",
    "    # files.download('{}.zip'.format(filename))"
   ]
  },
  {
   "cell_type": "code",
   "execution_count": 11,
   "metadata": {},
   "outputs": [],
   "source": [
    "root = 'H:/Azib/Lung_cancer/LCDC/Train/'\n",
    "des = 'H:/Azib/Lung_cancer/LCDC/'\n",
    "CPI = 'H:/Azib/Lung_cancer/LCDC/cancer_patch_id/'"
   ]
  },
  {
   "cell_type": "code",
   "execution_count": 14,
   "metadata": {},
   "outputs": [
    {
     "ename": "PermissionError",
     "evalue": "[Errno 13] Permission denied: 'H:/Azib/Lung_cancer/LCDC/cancer_patch_id/'",
     "output_type": "error",
     "traceback": [
      "\u001b[1;31m---------------------------------------------------------------------------\u001b[0m",
      "\u001b[1;31mPermissionError\u001b[0m                           Traceback (most recent call last)",
      "\u001b[1;32m<ipython-input-14-27696db0945a>\u001b[0m in \u001b[0;36m<module>\u001b[1;34m\u001b[0m\n\u001b[1;32m----> 1\u001b[1;33m \u001b[0mWSI_CP\u001b[0m\u001b[1;33m(\u001b[0m\u001b[0mroot\u001b[0m\u001b[1;33m,\u001b[0m\u001b[0mdes\u001b[0m\u001b[1;33m,\u001b[0m\u001b[0mCPI\u001b[0m\u001b[1;33m)\u001b[0m\u001b[1;33m\u001b[0m\u001b[1;33m\u001b[0m\u001b[0m\n\u001b[0m",
      "\u001b[1;32m<ipython-input-13-c31331b359eb>\u001b[0m in \u001b[0;36mWSI_CP\u001b[1;34m(root, des, CPI)\u001b[0m\n\u001b[0;32m     37\u001b[0m \u001b[1;33m\u001b[0m\u001b[0m\n\u001b[0;32m     38\u001b[0m             \u001b[0mCP\u001b[0m \u001b[1;33m=\u001b[0m \u001b[1;33m[\u001b[0m\u001b[1;33m]\u001b[0m\u001b[1;33m\u001b[0m\u001b[1;33m\u001b[0m\u001b[0m\n\u001b[1;32m---> 39\u001b[1;33m             \u001b[1;32mwith\u001b[0m \u001b[0mopen\u001b[0m\u001b[1;33m(\u001b[0m\u001b[0mCPI\u001b[0m\u001b[1;33m+\u001b[0m\u001b[0mto_read_file\u001b[0m\u001b[1;33m)\u001b[0m \u001b[1;32mas\u001b[0m \u001b[0mfile\u001b[0m\u001b[1;33m:\u001b[0m\u001b[1;33m\u001b[0m\u001b[1;33m\u001b[0m\u001b[0m\n\u001b[0m\u001b[0;32m     40\u001b[0m                 \u001b[1;32mfor\u001b[0m \u001b[0mi\u001b[0m \u001b[1;32min\u001b[0m \u001b[0mfile\u001b[0m\u001b[1;33m.\u001b[0m\u001b[0mreadlines\u001b[0m\u001b[1;33m(\u001b[0m\u001b[1;33m)\u001b[0m\u001b[1;33m:\u001b[0m\u001b[1;33m\u001b[0m\u001b[1;33m\u001b[0m\u001b[0m\n\u001b[0;32m     41\u001b[0m                     \u001b[0mCP\u001b[0m\u001b[1;33m.\u001b[0m\u001b[0mappend\u001b[0m\u001b[1;33m(\u001b[0m\u001b[0mint\u001b[0m\u001b[1;33m(\u001b[0m\u001b[0mi\u001b[0m\u001b[1;33m)\u001b[0m\u001b[1;33m)\u001b[0m\u001b[1;33m\u001b[0m\u001b[1;33m\u001b[0m\u001b[0m\n",
      "\u001b[1;31mPermissionError\u001b[0m: [Errno 13] Permission denied: 'H:/Azib/Lung_cancer/LCDC/cancer_patch_id/'"
     ]
    }
   ],
   "source": [
    "WSI_CP(root,des,CPI)"
   ]
  }
 ],
 "metadata": {
  "interpreter": {
   "hash": "4576ec154215c3f977e9c1bca0907767b7e203252d0f4941f3cb43e9d8ba048c"
  },
  "kernelspec": {
   "display_name": "Python 3.6.8 ('lung_cancer')",
   "language": "python",
   "name": "python3"
  },
  "language_info": {
   "codemirror_mode": {
    "name": "ipython",
    "version": 3
   },
   "file_extension": ".py",
   "mimetype": "text/x-python",
   "name": "python",
   "nbconvert_exporter": "python",
   "pygments_lexer": "ipython3",
   "version": "3.6.8"
  },
  "orig_nbformat": 4
 },
 "nbformat": 4,
 "nbformat_minor": 2
}
