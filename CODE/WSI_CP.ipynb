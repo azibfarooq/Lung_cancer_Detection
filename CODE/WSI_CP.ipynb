{
 "cells": [
  {
   "cell_type": "code",
   "execution_count": 1,
   "metadata": {},
   "outputs": [],
   "source": [
    "def WSI_CP(root, des, CPI):\n",
    "    import glob,os,imagecodecs,tifffile as tiff,shutil\n",
    "    from patchify import patchify \n",
    "\n",
    "    des = des+'WSI_CP'\n",
    "    if os.path.isdir(des) is False:\n",
    "        os.makedirs(des)\n",
    "    else:\n",
    "        shutil.rmtree(des)\n",
    "        os.makedirs(des)\n",
    "\n",
    "    CPI_filenames = os.listdir(CPI)\n",
    "\n",
    "    for file in glob.glob(root+'*.tif'):\n",
    "        file = file.replace(\"\\\\\",\"/\")\n",
    "        img = tiff.imread(file)\n",
    "\n",
    "        filename = file[len(root):-4]\n",
    "        to_read_file = ''\n",
    "        for i in range(len(CPI_filenames)):\n",
    "            if filename == CPI_filenames[i].split('_')[0]:\n",
    "                to_read_file = CPI_filenames[i]\n",
    "                CPI_filenames.pop(i)\n",
    "                break\n",
    "\n",
    "        \n",
    "\n",
    "        patches = patchify(img, (256, 256,3), step=256)\n",
    "        x, y, z = patches.shape[0], patches.shape[1], patches.shape[2]\n",
    "        patch = []\n",
    "\n",
    "        for i in range(x):\n",
    "            for j in range(y):\n",
    "                for k in range(z):\n",
    "                    patch.append(patches[i][j][k])\n",
    "        \n",
    "        CP = []\n",
    "        with open(CPI+to_read_file) as file:\n",
    "            for i in file.readlines():\n",
    "                CP.append(int(i))\n",
    "\n",
    "\n",
    "        for i in CP:\n",
    "            tiff.imwrite(des+'/{}_CP_{}.jpg'.format(filename,i), patch[i], photometric='rgb')\n",
    "        \n",
    "        if not CPI_filenames:\n",
    "            break\n",
    "    \n",
    "    # !zip -r '/content/patches' '/content/patches'\n",
    "    # files.download('{}.zip'.format(filename))"
   ]
  },
  {
   "cell_type": "code",
   "execution_count": 5,
   "metadata": {},
   "outputs": [],
   "source": [
    "root = 'H:/Azib/Lung_cancer/LCDC/Train/'\n",
    "des = 'H:/Azib/Lung_cancer/LCDC/'\n",
    "CPI = 'H:/Azib/Lung_cancer/LCDC/cancer_patch_id/'"
   ]
  },
  {
   "cell_type": "code",
   "execution_count": 6,
   "metadata": {},
   "outputs": [],
   "source": [
    "WSI_CP(root,des,CPI)"
   ]
  },
  {
   "cell_type": "code",
   "execution_count": null,
   "metadata": {},
   "outputs": [],
   "source": []
  }
 ],
 "metadata": {
  "interpreter": {
   "hash": "4576ec154215c3f977e9c1bca0907767b7e203252d0f4941f3cb43e9d8ba048c"
  },
  "kernelspec": {
   "display_name": "Python 3.6.8 ('lung_cancer')",
   "language": "python",
   "name": "python3"
  },
  "language_info": {
   "codemirror_mode": {
    "name": "ipython",
    "version": 3
   },
   "file_extension": ".py",
   "mimetype": "text/x-python",
   "name": "python",
   "nbconvert_exporter": "python",
   "pygments_lexer": "ipython3",
   "version": "3.6.8"
  },
  "orig_nbformat": 4
 },
 "nbformat": 4,
 "nbformat_minor": 2
}
