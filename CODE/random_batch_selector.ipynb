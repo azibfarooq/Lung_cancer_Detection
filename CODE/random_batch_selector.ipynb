def random_batch_selector(wsi_dir, mask_dir, des_dir, samples):
    img_paths = list(random.sample(glob.glob(wsi_dir+'*'), samples))
    img_names = [i.split('\\')[-1] for i in img_paths]
    sample_names = [[i.split('_')[0], i.split('_')[-1]] for i in img_names]
    mask_paths = []
    for i in sample_names:
        path = mask_dir+i[0]+'*'+i[-1]
        mask_paths.append(glob.glob(path)[0])
    if os.path.isdir(des_dir+'mask/') is False and os.path.isdir(des_dir+'wsi/') is False:
        os.makedirs(des_dir+'mask/')
        os.makedirs(des_dir+'wsi/')
    for i in range(len(img_paths)):
        shutil.copy(img_paths[i], des_dir+'wsi/')
        shutil.copy(mask_paths[i], des_dir+'mask/')

wsi_dir = 'H:/Azib/Lung_cancer/LCDC/Training/wsi/wsi_CP/'
mask_dir = 'H:/Azib/Lung_cancer/LCDC/Training/mask/mask_CP/'
des = 'H:/Azib/Lung_cancer/LCDC/Training/Batches/Batch_1/'      # mask and wsi folder will be created by itself delete all exisiting folders in this directory
samples = 200000

random_batch_selector(wsi_dir, mask_dir,des, samples)
