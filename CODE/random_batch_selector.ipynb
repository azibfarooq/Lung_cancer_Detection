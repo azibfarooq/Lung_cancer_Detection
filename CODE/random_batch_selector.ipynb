{
 "cells": [
  {
   "cell_type": "code",
   "execution_count": 4,
   "id": "dd23d6f4",
   "metadata": {},
   "outputs": [],
   "source": [
    "def random_batch_selector(wsi_dir, mask_dir, des_dir, samples):\n",
    "    import random, glob, os, shutil\n",
    "    img_paths = list(random.sample(glob.glob(wsi_dir+'*'), samples))\n",
    "    img_names = [i.split('\\\\')[-1] for i in img_paths]\n",
    "    sample_names = [[i.split('_')[0], i.split('_')[-1]] for i in img_names]\n",
    "    mask_paths = []\n",
    "    for i in sample_names:\n",
    "        path = mask_dir+i[0]+'*'+i[-1]\n",
    "        mask_paths.append(glob.glob(path)[0])\n",
    "    if os.path.isdir(des_dir+'mask/') is False and os.path.isdir(des_dir+'wsi/') is False:\n",
    "        os.makedirs(des_dir+'mask/')\n",
    "        os.makedirs(des_dir+'wsi/')\n",
    "    for i in range(len(img_paths)):\n",
    "        shutil.copy(img_paths[i], des_dir+'wsi/')\n",
    "        shutil.copy(mask_paths[i], des_dir+'mask/')"
   ]
  },
  {
   "cell_type": "code",
   "execution_count": 5,
   "id": "9a75d51f",
   "metadata": {},
   "outputs": [],
   "source": [
    "wsi_dir = 'H:/Azib/Lung_cancer/LCDC/Training/wsi/wsi_CP/'\n",
    "mask_dir = 'H:/Azib/Lung_cancer/LCDC/Training/mask/mask_CP/'\n",
    "des = 'H:/Azib/Lung_cancer/LCDC/Training/Batches/Batch_1/'     # Clear this directory mask and wsi folder containing sample number of files will be created by itself\n",
    "samples = 10    #Number of samples to make a batch of, in our case we agreed to make 200000 samples so chane it to 2lakh"
   ]
  },
  {
   "cell_type": "code",
   "execution_count": 6,
   "id": "ccabdb5b",
   "metadata": {},
   "outputs": [],
   "source": [
    "random_batch_selector(wsi_dir, mask_dir,des, samples)"
   ]
  },
  {
   "cell_type": "code",
   "execution_count": null,
   "id": "fcc25598",
   "metadata": {},
   "outputs": [],
   "source": []
  }
 ],
 "metadata": {
  "kernelspec": {
   "display_name": "Python 3",
   "language": "python",
   "name": "python3"
  },
  "language_info": {
   "codemirror_mode": {
    "name": "ipython",
    "version": 3
   },
   "file_extension": ".py",
   "mimetype": "text/x-python",
   "name": "python",
   "nbconvert_exporter": "python",
   "pygments_lexer": "ipython3",
   "version": "3.6.8"
  }
 },
 "nbformat": 4,
 "nbformat_minor": 5
}
